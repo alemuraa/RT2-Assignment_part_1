{
 "cells": [
  {
   "cell_type": "markdown",
   "id": "1f9fac70",
   "metadata": {},
   "source": [
    "Research Track II - 2° assignment with jupyter integration"
   ]
  },
  {
   "cell_type": "code",
   "execution_count": null,
   "id": "c20abc78",
   "metadata": {},
   "outputs": [],
   "source": [
    "%matplotlib notebook\n",
    "\n",
    "\n",
    "import rospy\n",
    "import actionlib\n",
    "import actionlib.msg\n",
    "import assignment_2_2022.msg\n",
    "from std_srvs.srv import *\n",
    "import sys\n",
    "import select\n",
    "from nav_msgs.msg import Odometry\n",
    "from geometry_msgs.msg import Point, Pose, Twist\n",
    "from assignment_2_2022.msg import Position_velocity\n",
    "from sensor_msgs.msg import LaserScan\n",
    "import math\n",
    "import ipywidgets as widgets\n",
    "from IPython.display import display \n",
    "from ipywidgets import Layout, HBox\n",
    "import matplotlib.pyplot as plt\n",
    "from matplotlib.animation import FuncAnimation\n",
    "from ipywidgets import interact, interactive, fixed, interact_manual\n",
    "import tf\n",
    "from nav_msgs.msg import Odometry\n",
    "from tf.transformations import quaternion_matrix\n",
    "import numpy as np\n",
    "\n",
    "goal_cancelled = 0\n",
    "goal_reached = 0\n",
    "canc_list, reach_list = [], []\n"
   ]
  },
  {
   "cell_type": "markdown",
   "id": "68a200df",
   "metadata": {},
   "source": [
    "Node Initialization"
   ]
  },
  {
   "cell_type": "code",
   "execution_count": null,
   "id": "19dea4bf",
   "metadata": {},
   "outputs": [],
   "source": [
    "# Inizialize the node\n",
    "rospy.init_node('user_input')"
   ]
  },
  {
   "cell_type": "markdown",
   "id": "bace8aa6",
   "metadata": {},
   "source": [
    "Check Goal Status"
   ]
  },
  {
   "cell_type": "code",
   "execution_count": null,
   "id": "54df3e4d",
   "metadata": {},
   "outputs": [],
   "source": [
    "def CheckGoalStatus(msg):\n",
    "    global goal_cancelled, goal_reached, canc_list, reach_list, goal\n",
    "\n",
    "    # Get the status of the result from the msg \n",
    "    status = msg.status.status\n",
    "\n",
    "    # Goal cancelled (status = 2)\n",
    "    if status == 2:\n",
    "        goal_cancelled += 1\n",
    "        \n",
    "        setting_button.disabled = False\n",
    "        cancel_button.disabled = True\n",
    "        \n",
    "        x_position.disabled = False\n",
    "        y_position.disabled = False\n",
    "        \n",
    "        canc_list.append((goal.target_pose.pose.position.x, goal.target_pose.pose.position.y))\n",
    "       \n",
    "        \n",
    "        \n",
    "    # Goal reached (status = 3)\n",
    "    elif status == 3:\n",
    "        goal_reached += 1\n",
    "        \n",
    "        setting_button.disabled = False\n",
    "        cancel_button.disabled = True\n",
    "        \n",
    "        x_position.disabled = False\n",
    "        y_position.disabled = False\n",
    "        \n",
    "        reach_list.append((goal.target_pose.pose.position.x, goal.target_pose.pose.position.y))\n",
    "        \n",
    "        \n",
    "        "
   ]
  },
  {
   "cell_type": "markdown",
   "id": "7ecc72e7",
   "metadata": {},
   "source": [
    "Graph depicting the trajectory of the robot and the status of goals (set, reached, deleted)"
   ]
  },
  {
   "cell_type": "code",
   "execution_count": null,
   "id": "4a0aa7d2",
   "metadata": {},
   "outputs": [],
   "source": [
    "global reach_list, canc_list, goal_cancelled, goal_reached\n",
    "\n",
    "class Visualiser:\n",
    "    def __init__(self):\n",
    "        self.fig, (self.ax, self.ax2) = plt.subplots(2,1, figsize=(8,8))\n",
    "        self.fig.subplots_adjust(hspace=0.5)\n",
    "        self.path_line, = self.ax.plot([], [], 'b-', markersize=3, label='Robot Path')\n",
    "        self.current_pos, = self.ax.plot([], [], 'ro', label='Current Position')\n",
    "        self.target_pos, = self.ax.plot([], [], 'go', label='Target Position')\n",
    "        self.old_target_pos, = self.ax.plot([], [], 'yo', label='Target Reached')\n",
    "        self.cancelled_target_pos, = self.ax.plot([], [], 'mo', label='Target Cancelled')\n",
    "        \n",
    "        self.ax2.bar(['Reached', 'Deleted'], [goal_reached, goal_cancelled], color=['g', 'r'])\n",
    "\n",
    "        self.x_data, self.y_data = [], []\n",
    "        self.x_goal, self.y_goal = [], []\n",
    "         \n",
    "    def plot_init(self):\n",
    "        self.ax.set_xlim(10, -10)\n",
    "        self.ax.set_ylim(10, -10)\n",
    "        self.ax.set_xlabel('X')\n",
    "        self.ax.set_ylabel('Y')\n",
    "        self.ax.grid(True)\n",
    "        self.ax.legend() \n",
    "        \n",
    "        self.ax2.grid(axis='y', linestyle='--', alpha=0.6)\n",
    "        self.ax2.set_yticks(range(0, 11, 1))\n",
    "        self.ax2.set_title('Goals statistics')\n",
    "        self.ax2.set_xlabel('Goals')\n",
    "        self.ax2.set_ylabel('Count')\n",
    "        self.ax2.legend()\n",
    "        \n",
    "        return self.path_line, self.current_pos, self.target_pos, self.old_target_pos, self.cancelled_target_pos\n",
    "\n",
    "    def odom_callback(self, msg):\n",
    "        self.y_data.append(msg.pose.pose.position.y)\n",
    "        self.x_data.append(msg.pose.pose.position.x)     \n",
    "        \n",
    "        self.x_goal.append(goal.target_pose.pose.position.x)\n",
    "        self.y_goal.append(goal.target_pose.pose.position.y)\n",
    "        \n",
    "    def update_plot(self, frame):\n",
    "        self.path_line.set_data(self.x_data, self.y_data)\n",
    "        self.current_pos.set_data(self.x_data[-1:], self.y_data[-1:])\n",
    "        self.target_pos.set_data(self.x_goal[-1:], self.y_goal[-1:])\n",
    "        self.old_target_pos.set_data([coord[0] for coord in reach_list], [coord[1] for coord in reach_list])\n",
    "        self.cancelled_target_pos.set_data([coord[0] for coord in canc_list], [coord[1] for coord in canc_list])\n",
    "        \n",
    "        self.ax2.bar(['Reached', 'Deleted'], [goal_reached, goal_cancelled], color = ['g', 'r'])\n",
    "        \n",
    "        \n",
    "        return self.path_line, self.current_pos, self.target_pos, self.old_target_pos, self.cancelled_target_pos"
   ]
  },
  {
   "cell_type": "markdown",
   "id": "80ec8645",
   "metadata": {},
   "source": [
    "Function representing the current position and velocity of the robot"
   ]
  },
  {
   "cell_type": "code",
   "execution_count": null,
   "id": "541abd35",
   "metadata": {},
   "outputs": [],
   "source": [
    "def OdometryCallback(msg):\n",
    "\n",
    "    global pub, current_x_widget, current_y_widget, vel_magnitude_widget#, position_x, position_y\n",
    "\n",
    "    # Get the position from the msg\n",
    "    pos = msg.pose.pose.position\n",
    "\n",
    "    # Get the twist from the msg\n",
    "    velocity = msg.twist.twist.linear\n",
    "\n",
    "    # Create custom message\n",
    "    position_velocity = Position_velocity()\n",
    "\n",
    "    # Assign the parameters of the custom message\n",
    "    position_velocity.x=pos.x\n",
    "    position_velocity.y=pos.y\n",
    "    position_velocity.v_x=velocity.x\n",
    "    position_velocity.v_y=velocity.y\n",
    "    \n",
    "    # Update the current position widgets\n",
    "    current_x_widget.value = round(pos.x, 2)\n",
    "    current_y_widget.value = round(pos.y, 2)\n",
    "    \n",
    "    # Current magnitude velocity widget \n",
    "    vel_magnitude_widget.value = round(np.sqrt(position_velocity.v_x ** 2 + position_velocity.v_y ** 2), 2)\n",
    "    \n",
    "    # Publish the custom message\n",
    "    pub.publish(position_velocity)"
   ]
  },
  {
   "cell_type": "markdown",
   "id": "5adb7ad5",
   "metadata": {},
   "source": [
    "Functions for setting and deleting goals"
   ]
  },
  {
   "cell_type": "code",
   "execution_count": null,
   "id": "6e3d96b3",
   "metadata": {},
   "outputs": [],
   "source": [
    "def setting_button_clicked(button):\n",
    "    global x_position, y_position\n",
    "    \n",
    "    if cancel_button.disabled:\n",
    "        \n",
    "        # Enable cancel button when setting a new goal\n",
    "        cancel_button.disabled = False\n",
    "        setting_button.disabled = True\n",
    "        \n",
    "        # Diable FloatSlider widgets\n",
    "        x_position.disabled = True\n",
    "        y_position.disabled = True\n",
    "        \n",
    "        goal.target_pose.pose.position.x = x_position.value\n",
    "        goal.target_pose.pose.position.y = y_position.value\n",
    "        \n",
    "        # Send the goal to the server\n",
    "        client.send_goal(goal)\n",
    "        \n",
    "def cancel_button_clicked(button):\n",
    "    global x_position, y_position\n",
    "    \n",
    "    if setting_button.disabled:\n",
    "        \n",
    "        # Enable setting button when cancelling the goal\n",
    "        setting_button.disabled = False\n",
    "        cancel_button.disabled = True\n",
    "        \n",
    "        # Enable FloatSlider widgets\n",
    "        x_position.disabled = False\n",
    "        y_position.disabled = False\n",
    "    \n",
    "        # Cancel goal\n",
    "        client.cancel_goal()"
   ]
  },
  {
   "cell_type": "markdown",
   "id": "561408ea",
   "metadata": {},
   "source": [
    "Laser Scanner function"
   ]
  },
  {
   "cell_type": "code",
   "execution_count": null,
   "id": "2e856a72",
   "metadata": {},
   "outputs": [],
   "source": [
    "def laserCallback(scan):\n",
    "    valid_ranges = [x for x in scan.ranges if scan.range_min < x < scan.range_max]\n",
    "    min_range = min(valid_ranges, default=100)\n",
    "    angle = scan.angle_min + scan.angle_increment * scan.ranges.index(min_range)\n",
    "    \n",
    "    dmin.value = round(min_range, 2)\n",
    "    ang.value = round(angle * (180.0 / math.pi), 2)"
   ]
  },
  {
   "cell_type": "markdown",
   "id": "6557b39a",
   "metadata": {},
   "source": [
    "Widget creation"
   ]
  },
  {
   "cell_type": "code",
   "execution_count": null,
   "id": "57d86d2f",
   "metadata": {},
   "outputs": [],
   "source": [
    "# Create a text widget for displaying the targets and velocity magnitude\n",
    "current_x_widget = widgets.FloatText(value=0.0, description='Current X position:', disabled=True, style={'description_width': 'initial', 'overflow': 'visible'})\n",
    "current_y_widget = widgets.FloatText(value=0.0, description='Current Y position:', disabled=True, style={'description_width': 'initial', 'overflow': 'visible'})\n",
    "vel_magnitude_widget = widgets.FloatText(value=0.0, description='Current Velocity:', disabled=True, style={'description_width': 'initial', 'overflow': 'visible'})\n",
    "\n",
    "# FloatSlider widgets to choose the coordinates and Setting buttons\n",
    "x_position = widgets.FloatSlider(value=0.0,min=-10.0,max=10.0,step=0.1,description='Set Target X:',orientation='horizontal')\n",
    "y_position = widgets.FloatSlider(value=0.0,min=-10.0,max=10.0,step=0.1,description='Set Target Y:',orientation='horizontal')\n",
    "setting_button = widgets.Button(value=False,description='SET GOAL',disabled=False,button_style='success',tooltip='Description')#'check') # (FontAwesome names without the `fa-` prefix))    \n",
    "cancel_button = widgets.Button(value=False,description='CANC GOAL',disabled=True,button_style='danger',tooltip='Description')#'check') # (FontAwesome names without the `fa-` prefix))    \n",
    "\n",
    "# Laser Widgets\n",
    "dmin = widgets.FloatText(description = \"Distance:\", disabled = True)\n",
    "ang = widgets.FloatText(description = \"Angle:\", disabled = True)\n",
    "\n",
    "# Widget boxes to display\n",
    "current_box = HBox([current_x_widget, current_y_widget, vel_magnitude_widget])\n",
    "setting_box = HBox([x_position,y_position,setting_button, cancel_button])\n",
    "laser_box = HBox([dmin, ang])"
   ]
  },
  {
   "cell_type": "markdown",
   "id": "3d7e52ec",
   "metadata": {},
   "source": [
    "Publisher and Subscriber"
   ]
  },
  {
   "cell_type": "code",
   "execution_count": null,
   "id": "8911e6b6",
   "metadata": {},
   "outputs": [],
   "source": [
    "# PUBLISHER: send a message which contains two parameters (velocity and position)\n",
    "pub = rospy.Publisher(\"/pos_vel\", Position_velocity, queue_size = 1)\n",
    "\n",
    "# Create the action client\n",
    "client = actionlib.SimpleActionClient('/reaching_goal', assignment_2_2022.msg.PlanningAction)\n",
    "    \n",
    "# Wait for the server to be started\n",
    "client.wait_for_server()\n",
    "\n",
    "# Set goal position\n",
    "goal = assignment_2_2022.msg.PlanningGoal()\n",
    "\n",
    "global goal\n",
    "\n",
    "# SUBSCRIBER: get from \"Odom\" two parameters (velocity and position)\n",
    "sub_from_Odom=rospy.Subscriber(\"/odom\",Odometry,OdometryCallback)\n",
    "\n",
    "sub_from_scan=rospy.Subscriber(\"/scan\", LaserScan, laserCallback)\n",
    "\n",
    "vis = Visualiser()\n",
    "rospy.Subscriber('/odom', Odometry, vis.odom_callback)\n",
    "ani = FuncAnimation(vis.fig, vis.update_plot, init_func=vis.plot_init, interval=100)\n",
    "sub_from_goal = rospy.Subscriber(\"/reaching_goal/result\", assignment_2_2022.msg.PlanningActionResult, CheckGoalStatus)\n",
    "plt.show(block=True) "
   ]
  },
  {
   "cell_type": "markdown",
   "id": "3487c386",
   "metadata": {},
   "source": [
    "Display Widgtes"
   ]
  },
  {
   "cell_type": "code",
   "execution_count": null,
   "id": "d0c3a262",
   "metadata": {},
   "outputs": [],
   "source": [
    "display(current_box)\n",
    "\n",
    "setting_button.on_click(setting_button_clicked)\n",
    "cancel_button.on_click(cancel_button_clicked)\n",
    "\n",
    "display(setting_box)\n",
    "display(laser_box)"
   ]
  }
 ],
 "metadata": {
  "kernelspec": {
   "display_name": "Python 3 (ipykernel)",
   "language": "python",
   "name": "python3"
  },
  "language_info": {
   "codemirror_mode": {
    "name": "ipython",
    "version": 3
   },
   "file_extension": ".py",
   "mimetype": "text/x-python",
   "name": "python",
   "nbconvert_exporter": "python",
   "pygments_lexer": "ipython3",
   "version": "3.8.5"
  }
 },
 "nbformat": 4,
 "nbformat_minor": 5
}
